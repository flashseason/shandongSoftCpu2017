{
 "cells": [
  {
   "cell_type": "code",
   "execution_count": 1,
   "metadata": {
    "collapsed": true
   },
   "outputs": [],
   "source": [
    "import os\n",
    "import random\n",
    "from random import choice\n",
    "import shutil\n",
    "\n",
    "#根据item文件间\n",
    "#创建data中所有的文件夹\n",
    "files=['train','val','test']\n",
    "names=os.listdir(\"item\")\n",
    "for aFile in files:\n",
    "    for aName in names:\n",
    "        os.makedirs(\"data/\"+aFile+\"/\"+aName)\n",
    "\n",
    "\n",
    "def movePhoto():\n",
    "    items=os.listdir(\"item\")#item文件夹里面的所有物品.形成list\n",
    "\n",
    "    for item in items:\n",
    "        if item!=\".ipynb_checkpoints\":\n",
    "\n",
    "            while 1:#进行无限循环，当文件夹中没有图片时跳出循环\n",
    "                photos=os.listdir(\"item/\"+item)\n",
    "                if len(photos)==0:\n",
    "                    break\n",
    "                    \n",
    "                aPhoto = choice(photos)#随机选出一张照片\n",
    "                if aPhoto!=\".ipynb_checkpoints\":\n",
    "                    number = random.uniform(0, 1)#生成随机数，0<=number<=1\n",
    "                    if number>=0.5:\n",
    "                        shutil.move(\"item/\"+item+\"/\"+aPhoto,\"data/train/\"+item+\"/\"+aPhoto) \n",
    "                    elif number<0.2:\n",
    "                        shutil.move(\"item/\"+item+\"/\"+aPhoto,\"data/val/\"+item+\"/\"+aPhoto)\n",
    "                    else:\n",
    "                        shutil.move(\"item/\"+item+\"/\"+aPhoto,\"data/test/\"+item+\"/\"+aPhoto)\n",
    "\n",
    "movePhoto()"
   ]
  },
  {
   "cell_type": "code",
   "execution_count": null,
   "metadata": {
    "collapsed": true
   },
   "outputs": [],
   "source": []
  }
 ],
 "metadata": {
  "kernelspec": {
   "display_name": "Python 2",
   "language": "python",
   "name": "python2"
  },
  "language_info": {
   "codemirror_mode": {
    "name": "ipython",
    "version": 2
   },
   "file_extension": ".py",
   "mimetype": "text/x-python",
   "name": "python",
   "nbconvert_exporter": "python",
   "pygments_lexer": "ipython2",
   "version": "2.7.13"
  }
 },
 "nbformat": 4,
 "nbformat_minor": 2
}
