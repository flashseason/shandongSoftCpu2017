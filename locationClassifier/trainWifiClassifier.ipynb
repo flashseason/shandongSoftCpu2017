{
 "cells": [
  {
   "cell_type": "code",
   "execution_count": 15,
   "metadata": {},
   "outputs": [
    {
     "ename": "ImportError",
     "evalue": "No module named MySQLdb",
     "output_type": "error",
     "traceback": [
      "\u001b[0;31m---------------------------------------------------------------------------\u001b[0m",
      "\u001b[0;31mImportError\u001b[0m                               Traceback (most recent call last)",
      "\u001b[0;32m<ipython-input-15-8f4b09a0cd98>\u001b[0m in \u001b[0;36m<module>\u001b[0;34m()\u001b[0m\n\u001b[1;32m      1\u001b[0m \u001b[0;34m\u001b[0m\u001b[0m\n\u001b[1;32m      2\u001b[0m \u001b[0;32mimport\u001b[0m \u001b[0mnumpy\u001b[0m \u001b[0;32mas\u001b[0m \u001b[0mnp\u001b[0m\u001b[0;34m\u001b[0m\u001b[0m\n\u001b[0;32m----> 3\u001b[0;31m \u001b[0;32mimport\u001b[0m \u001b[0mMySQLdb\u001b[0m\u001b[0;34m\u001b[0m\u001b[0m\n\u001b[0m\u001b[1;32m      4\u001b[0m \u001b[0;32mimport\u001b[0m \u001b[0mjson\u001b[0m\u001b[0;34m\u001b[0m\u001b[0m\n\u001b[1;32m      5\u001b[0m \u001b[0;34m\u001b[0m\u001b[0m\n",
      "\u001b[0;31mImportError\u001b[0m: No module named MySQLdb"
     ]
    }
   ],
   "source": [
    "# -*- coding: utf-8 -*-\n",
    "import numpy as np\n",
    "import MySQLdb\n",
    "import json\n",
    "\n",
    "db = MySQLdb.connect(\"localhost\",\"root\",\"aaaaaa\",\"repair_reporter\",charset='utf8')\n",
    "cur = db.cursor()\n",
    "sql0 = \"select symbol.mac_intensity,position.large_area_name,position.part_area_name,position.building,position.floor,position.room from symbol,position where symbol.position_id = position.id\"\n",
    "cur.execute(sql0)\n",
    "allData = cur.fetchall()\n",
    "sql1 = \"select large_area_name,part_area_name,building,floor,room from position\"\n",
    "cur.execute(sql1)\n",
    "roomData = cur.fetchall()\n",
    "db.close()\n",
    "\n",
    "def generateMacAddrDict(allData):\n",
    "    macAddrDict = {}\n",
    "    for data in allData:\n",
    "        for allMac in json.loads(data[0]):\n",
    "            if not macAddrDict.has_key(allMac['mac']):\n",
    "                macAddrDict[allMac['mac']] = len(macAddrDict)   \n",
    "    return macAddrDict\n",
    "\n",
    "def generateRoomDict(roomData):\n",
    "    roomDict = {}\n",
    "    for data in roomData:\n",
    "        room = ''\n",
    "        for string in data:\n",
    "            room += string\n",
    "        roomDict[room] = len(roomDict)\n",
    "    return roomDict\n",
    "\n",
    "def generateWifiVector(data,macAddrDict):\n",
    "    vector = np.zeros(len(macAddrDict))\n",
    "    for mac in json.loads(data[0]):\n",
    "        id = macAddrDict[mac['mac']]\n",
    "        vector[id] = mac['level']\n",
    "    return vector\n",
    "\n",
    "macAddrDict = generateMacAddrDict(allData)\n",
    "roomDict = generateRoomDict(roomData)\n",
    "\n",
    "X = np.zeros(len(allData)*len(macAddrDict))\n",
    "X.shape = len(allData),len(macAddrDict)\n",
    "y = np.zeros(len(allData))\n",
    "i = 0\n",
    "for data in allData:\n",
    "    X[i] = generateWifiVector(data,macAddrDict)\n",
    "    string = data[1]+data[2]+data[3]+data[4]+data[5]\n",
    "    y[i] = roomDict[string]\n",
    "    i += 1\n"
   ]
  },
  {
   "cell_type": "code",
   "execution_count": 14,
   "metadata": {
    "collapsed": true
   },
   "outputs": [],
   "source": [
    "import numpy as np\n",
    "import json\n",
    "\n",
    "#定义类\n",
    "class WifiInfo(object):\n",
    "    def __init__(self, X, y, macAddrDict, roomDict):\n",
    "        self.X = X\n",
    "        self.y = y\n",
    "        self.macAddrDict = macAddrDict\n",
    "        self.roomDict = roomDict"
   ]
  },
  {
   "cell_type": "code",
   "execution_count": 2,
   "metadata": {
    "collapsed": true
   },
   "outputs": [],
   "source": [
    "# 写入文件，慎用\n",
    "# import pickle\n",
    "# wifiInfo = WifiInfo(X,y,macAddrDict,roomDict)\n",
    "\n",
    "# fp = open('wifiInfo.pkl','wb',True)\n",
    "# pickle.dump(wifiInfo, fp)"
   ]
  },
  {
   "cell_type": "code",
   "execution_count": 32,
   "metadata": {
    "collapsed": true
   },
   "outputs": [],
   "source": [
    "#加载训练数据\n",
    "import pickle\n",
    "fp = open('wifiInfo.pkl','rb',True)\n",
    "wifiInfo = pickle.load(fp)\n",
    "\n",
    "X = wifiInfo.X\n",
    "X [X==0] = -100\n",
    "X = X+100\n"
   ]
  },
  {
   "cell_type": "code",
   "execution_count": 33,
   "metadata": {},
   "outputs": [
    {
     "data": {
      "text/plain": [
       "array([[ 60.,  53.,  39., ...,   0.,   0.,   0.],\n",
       "       [ 60.,  53.,  39., ...,   0.,   0.,   0.],\n",
       "       [ 48.,  51.,  31., ...,   0.,   0.,   0.],\n",
       "       ..., \n",
       "       [  0.,   0.,   0., ...,   0.,   0.,   0.],\n",
       "       [  0.,   0.,   0., ...,   0.,  11.,   0.],\n",
       "       [  0.,   0.,   0., ...,   0.,   0.,  25.]])"
      ]
     },
     "execution_count": 33,
     "metadata": {},
     "output_type": "execute_result"
    }
   ],
   "source": [
    "X"
   ]
  },
  {
   "cell_type": "code",
   "execution_count": 34,
   "metadata": {
    "collapsed": true
   },
   "outputs": [],
   "source": [
    "from sklearn.preprocessing import StandardScaler\n",
    "ss = StandardScaler()\n",
    "X = ss.fit_transform(X)\n"
   ]
  },
  {
   "cell_type": "code",
   "execution_count": 18,
   "metadata": {},
   "outputs": [
    {
     "name": "stdout",
     "output_type": "stream",
     "text": [
      "The best parameters are {'C': 1000000.0, 'gamma': 1e-08} with a score of 0.98\n"
     ]
    }
   ],
   "source": [
    "from sklearn.svm import SVC\n",
    "from sklearn.model_selection import StratifiedShuffleSplit\n",
    "from sklearn.model_selection import GridSearchCV\n",
    "\n",
    "C_range = np.logspace(-2, 10, 13)\n",
    "gamma_range = np.logspace(-9, 3, 13)\n",
    "param_grid = dict(gamma=gamma_range, C=C_range)\n",
    "cv = StratifiedShuffleSplit(n_splits=5, test_size=0.2, random_state=42)\n",
    "grid = GridSearchCV(SVC(), param_grid=param_grid, cv=cv)\n",
    "grid.fit(X, y)\n",
    "\n",
    "print(\"The best parameters are %s with a score of %0.2f\"\n",
    "      % (grid.best_params_, grid.best_score_))\n",
    "\n",
    "# Now we need to fit a classifier for all parameters in the 2d version\n",
    "# (we use a smaller set of parameters here because it takes a while to train)\n",
    "\n",
    "# C_2d_range = [1e-2, 1, 1e2]\n",
    "# gamma_2d_range = [1e-1, 1, 1e1]\n",
    "# classifiers = []\n",
    "# for C in C_2d_range:\n",
    "#     for gamma in gamma_2d_range:\n",
    "#         clf = SVC(C=C, gamma=gamma)\n",
    "#         clf.fit(X, y)\n",
    "#         classifiers.append((C, gamma, clf))\n"
   ]
  },
  {
   "cell_type": "code",
   "execution_count": 39,
   "metadata": {},
   "outputs": [
    {
     "data": {
      "text/plain": [
       "SVC(C=1000000.0, cache_size=200, class_weight=None, coef0=0.0,\n",
       "  decision_function_shape=None, degree=3, gamma=1e-08, kernel='rbf',\n",
       "  max_iter=-1, probability=True, random_state=None, shrinking=True,\n",
       "  tol=0.001, verbose=False)"
      ]
     },
     "execution_count": 39,
     "metadata": {},
     "output_type": "execute_result"
    }
   ],
   "source": [
    "C = grid.best_params_['C']\n",
    "gamma = grid.best_params_['gamma']\n",
    "clf = SVC(C=C, gamma=gamma, probability =True)\n",
    "clf.fit(X, y)"
   ]
  },
  {
   "cell_type": "code",
   "execution_count": 1,
   "metadata": {},
   "outputs": [
    {
     "ename": "NameError",
     "evalue": "name 'clf' is not defined",
     "output_type": "error",
     "traceback": [
      "\u001b[0;31m---------------------------------------------------------------------------\u001b[0m",
      "\u001b[0;31mNameError\u001b[0m                                 Traceback (most recent call last)",
      "\u001b[0;32m<ipython-input-1-5ff6804586ac>\u001b[0m in \u001b[0;36m<module>\u001b[0;34m()\u001b[0m\n\u001b[1;32m     45\u001b[0m \u001b[0;34m\u001b[0m\u001b[0m\n\u001b[1;32m     46\u001b[0m \u001b[0;31m#生成分类器\u001b[0m\u001b[0;34m\u001b[0m\u001b[0;34m\u001b[0m\u001b[0m\n\u001b[0;32m---> 47\u001b[0;31m \u001b[0mlocationClassifier\u001b[0m \u001b[0;34m=\u001b[0m \u001b[0mLocationClassifier\u001b[0m\u001b[0;34m(\u001b[0m\u001b[0mclf\u001b[0m\u001b[0;34m,\u001b[0m \u001b[0mwifiInfo\u001b[0m\u001b[0;34m,\u001b[0m \u001b[0mss\u001b[0m\u001b[0;34m)\u001b[0m\u001b[0;34m\u001b[0m\u001b[0m\n\u001b[0m\u001b[1;32m     48\u001b[0m \u001b[0;34m\u001b[0m\u001b[0m\n\u001b[1;32m     49\u001b[0m \u001b[0;31m# 保存svc分类器\u001b[0m\u001b[0;34m\u001b[0m\u001b[0;34m\u001b[0m\u001b[0m\n",
      "\u001b[0;31mNameError\u001b[0m: name 'clf' is not defined"
     ]
    }
   ],
   "source": [
    "#定义分类器\n",
    "class LocationClassifier(object):\n",
    "    def __init__(self, classifier, wifiInfo, standardScaler):\n",
    "        self.classifier = classifier\n",
    "        self.wifiInfo = wifiInfo\n",
    "        self.standardScaler = standardScaler\n",
    "    \n",
    "    def convertWifiVector(self, wifiJsonString):\n",
    "        vector = np.zeros(len(self.wifiInfo.macAddrDict))\n",
    "        for mac in json.loads(wifiJsonString):\n",
    "            id = self.wifiInfo.macAddrDict[mac['mac']]\n",
    "            vector[id] = mac['level']\n",
    "        return vector\n",
    "    \n",
    "    def recognize(self,wifiJsonString):\n",
    "        vector = self.convertWifiVector(wifiJsonString)\n",
    "        vector [vector==0] = -100\n",
    "        vector = vector+100\n",
    "        vector = self.standardScaler.transform([vector])\n",
    "\n",
    "        #可能性\n",
    "        prob = self.classifier.predict_proba(vector)\n",
    "        prob_idx = np.argsort(-prob,axis=1)[0]\n",
    "        # 根据可能性排序，然后把这个arg_index套用到clf.classese_,以免出现跳跃式类别。这是范留山隐藏的坑\n",
    "        # 要按大一这样搞，算法这条路基本没希望了\n",
    "        pred_classes = self.classifier.classes_[prob_idx]\n",
    "\n",
    "        return pred_classes[:3], prob[0,prob_idx[:3]]#[0,pred_idx[:3]]  #返回前3个最大可能的类别，以及他们的可能性\n",
    "    \n",
    "    def return_as_json(self, wifiJsonString):\n",
    "        '''直接返回json字串，该怎么输出自己再改@范留山'''\n",
    "        [c,p] = self.recognize(wifiJsonString)\n",
    "        jsonData = []\n",
    "        tmpData = dict()\n",
    "    #     for i in range(len(c)):\n",
    "    #         tmpData['class'] = target_names[c[i]]\n",
    "    #         tmpData['possibility'] = p[i]\n",
    "    #         tmpData['classId'] = c[i]\n",
    "    #         jsonData.append(tmpData)\n",
    "    #         print '类别:',locationClassifier.wifiInfo.roomDict[c[i]],'可信度',p[i]\n",
    "    \n",
    "\n",
    "        print '你妹的，给类别号码得不到房间，我之前要求：  给mac-->得到idx，给类别-->得到房间，你后面的给弄反了，在wifiInfo里面改。'\n",
    "        return jsonData\n",
    "\n",
    "#生成分类器\n",
    "locationClassifier = LocationClassifier(clf, wifiInfo, ss)\n",
    "\n",
    "# 保存svc分类器\n",
    "import pickle\n",
    "fp = open('locationClassifier.pkl','wb',True)\n",
    "pickle.dump(locationClassifier, fp)"
   ]
  },
  {
   "cell_type": "code",
   "execution_count": 87,
   "metadata": {},
   "outputs": [
    {
     "name": "stdout",
     "output_type": "stream",
     "text": [
      "你妹的，给类别号码得不到房间，我之前要求：  给mac-->得到idx，给类别-->得到房间，你后面的给弄反了，在wifiInfo里面改。\n"
     ]
    },
    {
     "data": {
      "text/plain": [
       "[]"
      ]
     },
     "execution_count": 87,
     "metadata": {},
     "output_type": "execute_result"
    }
   ],
   "source": [
    "wifiJsonString='[{\"mac\":\"0a:69:6c:76:fc:bb\",\"level\":\"-45\"},{\"mac\":\"06:69:6c:76:fc:ba\",\"level\":\"-47\"},{\"mac\":\"06:69:6c:76:fc:a6\",\"level\":\"-51\"},{\"mac\":\"0a:69:6c:76:fc:a7\",\"level\":\"-58\"},{\"mac\":\"0a:69:6c:77:09:cf\",\"level\":\"-69\"},{\"mac\":\"06:69:6c:77:00:9e\",\"level\":\"-72\"}]'\n",
    "\n",
    "\n",
    "import pickle\n",
    "\n",
    "#加载\n",
    "fp = open('locationClassifier.pkl','rb',True)\n",
    "locationClassifier = pickle.load(fp)\n",
    "\n",
    "locationClassifier.return_as_json(wifiJsonString)\n"
   ]
  },
  {
   "cell_type": "code",
   "execution_count": 74,
   "metadata": {},
   "outputs": [
    {
     "data": {
      "text/plain": [
       "{u'\\u6559\\u5b66\\u533a\\u8ba1\\u79d1\\u7cfb-\\u5316\\u5b66\\u7cfbA201': 8,\n",
       " u'\\u6559\\u5b66\\u533a\\u8ba1\\u79d1\\u7cfb-\\u5316\\u5b66\\u7cfbA211': 9,\n",
       " u'\\u6559\\u5b66\\u533a\\u8ba1\\u79d1\\u7cfb-\\u5316\\u5b66\\u7cfbA212': 7,\n",
       " u'\\u6559\\u5b66\\u533a\\u8ba1\\u79d1\\u7cfb-\\u5316\\u5b66\\u7cfbA301': 22,\n",
       " u'\\u6559\\u5b66\\u533a\\u8ba1\\u79d1\\u7cfb-\\u5316\\u5b66\\u7cfbA311': 21,\n",
       " u'\\u6559\\u5b66\\u533a\\u8ba1\\u79d1\\u7cfb-\\u5316\\u5b66\\u7cfbB205': 2,\n",
       " u'\\u6559\\u5b66\\u533a\\u8ba1\\u79d1\\u7cfb-\\u5316\\u5b66\\u7cfbB306': 1,\n",
       " u'\\u6559\\u5b66\\u533a\\u8ba1\\u79d1\\u7cfb-\\u5316\\u5b66\\u7cfbB307': 3,\n",
       " u'\\u6559\\u5b66\\u533a\\u8ba1\\u79d1\\u7cfb-\\u5316\\u5b66\\u7cfbC101': 5,\n",
       " u'\\u6559\\u5b66\\u533a\\u8ba1\\u79d1\\u7cfb-\\u5316\\u5b66\\u7cfbC103': 17,\n",
       " u'\\u6559\\u5b66\\u533a\\u8ba1\\u79d1\\u7cfb-\\u5316\\u5b66\\u7cfbC104': 16,\n",
       " u'\\u6559\\u5b66\\u533a\\u8ba1\\u79d1\\u7cfb-\\u5316\\u5b66\\u7cfbC105': 15,\n",
       " u'\\u6559\\u5b66\\u533a\\u8ba1\\u79d1\\u7cfb-\\u5316\\u5b66\\u7cfbC106': 6,\n",
       " u'\\u6559\\u5b66\\u533a\\u8ba1\\u79d1\\u7cfb-\\u5316\\u5b66\\u7cfbC204': 19,\n",
       " u'\\u6559\\u5b66\\u533a\\u8ba1\\u79d1\\u7cfb-\\u5316\\u5b66\\u7cfbC205': 13,\n",
       " u'\\u6559\\u5b66\\u533a\\u8ba1\\u79d1\\u7cfb-\\u5316\\u5b66\\u7cfbC206': 14,\n",
       " u'\\u6559\\u5b66\\u533a\\u8ba1\\u79d1\\u7cfb-\\u5316\\u5b66\\u7cfbC207': 4,\n",
       " u'\\u6559\\u5b66\\u533a\\u8ba1\\u79d1\\u7cfb-\\u5316\\u5b66\\u7cfbC209': 20,\n",
       " u'\\u6559\\u5b66\\u533a\\u8ba1\\u79d1\\u7cfb-\\u5316\\u5b66\\u7cfbC301': 11,\n",
       " u'\\u6559\\u5b66\\u533a\\u8ba1\\u79d1\\u7cfb-\\u5316\\u5b66\\u7cfbC304': 18,\n",
       " u'\\u6559\\u5b66\\u533a\\u8ba1\\u79d1\\u7cfb-\\u5316\\u5b66\\u7cfbC307': 0,\n",
       " u'\\u6559\\u5b66\\u533a\\u8ba1\\u79d1\\u7cfb-\\u5316\\u5b66\\u7cfbC308': 12,\n",
       " u'\\u6559\\u5b66\\u533a\\u8ba1\\u79d1\\u7cfb-\\u5316\\u5b66\\u7cfbC408': 10}"
      ]
     },
     "execution_count": 74,
     "metadata": {},
     "output_type": "execute_result"
    }
   ],
   "source": [
    "wifiInfo."
   ]
  },
  {
   "cell_type": "code",
   "execution_count": 12,
   "metadata": {},
   "outputs": [
    {
     "data": {
      "text/plain": [
       "array([  4.,   4.,   4.,   4.,   4.,   4.,   4.,   4.,   4.,   4.,   4.,\n",
       "         4.,   4.,   4.,   4.,   4.,   4.,   4.,   4.,   4.,   4.,   4.,\n",
       "         4.,   4.,   4.,   4.,   4.,   4.,   5.,   5.,   5.,   5.,   5.,\n",
       "         5.,   5.,   5.,   5.,   5.,   5.,   5.,   5.,   5.,   5.,   5.,\n",
       "         5.,   5.,   5.,   5.,   5.,   5.,   5.,   5.,   5.,   5.,   5.,\n",
       "         5.,   5.,   5.,   5.,   5.,   5.,   5.,   5.,   5.,   5.,   5.,\n",
       "         5.,   5.,   6.,   6.,   6.,   6.,   6.,   6.,   6.,   6.,   6.,\n",
       "         6.,   6.,   6.,   6.,   6.,   6.,   6.,   6.,   6.,   6.,   6.,\n",
       "         6.,   6.,   6.,   6.,   6.,   6.,   6.,   6.,   6.,   6.,   6.,\n",
       "         6.,   6.,   6.,   6.,   6.,   6.,   6.,   6.,   6.,   7.,   7.,\n",
       "         7.,   7.,   7.,   7.,   7.,   7.,   7.,   7.,   7.,   7.,   7.,\n",
       "         7.,   7.,   7.,   7.,   7.,   7.,   7.,   7.,   7.,   7.,   7.,\n",
       "         7.,   7.,   7.,   7.,   7.,   7.,   7.,   7.,   7.,   7.,   7.,\n",
       "         7.,   7.,   7.,   7.,   7.,   7.,   7.,   7.,   7.,   7.,   7.,\n",
       "         7.,   7.,   7.,   7.,   7.,   7.,   7.,   7.,   8.,   7.,   8.,\n",
       "         7.,   7.,   8.,   8.,   8.,   8.,   8.,   8.,   7.,   7.,   8.,\n",
       "         8.,   7.,   8.,   7.,   8.,   7.,   8.,   8.,   7.,   8.,   7.,\n",
       "         8.,   8.,   8.,   8.,   8.,   8.,   8.,   8.,   8.,   8.,   8.,\n",
       "         8.,   8.,   8.,   8.,   8.,   8.,   8.,   9.,   9.,   9.,   9.,\n",
       "         9.,   9.,   9.,   9.,   9.,   9.,   9.,   9.,   9.,   9.,   9.,\n",
       "         9.,   9.,   9.,   9.,   9.,   9.,   9.,   9.,   9.,   9.,   9.,\n",
       "         9.,   9.,   9.,   9.,   9.,   9.,   9.,   9.,   9.,   9.,   9.,\n",
       "         9.,   9.,   9.,   9.,   9.,   9.,  10.,  10.,  10.,  10.,  10.,\n",
       "        10.,  10.,  10.,  10.,  10.,  10.,  10.,  10.,  10.,  10.,  10.,\n",
       "         0.,   0.,   0.,   0.,   0.,   0.,   0.,   0.,   0.,   0.,   0.,\n",
       "         0.,   0.,   0.,   0.,   0.,   0.,   0.,   0.,   0.,   0.,   0.,\n",
       "         0.,   0.,   0.,   0.,   0.,   0.,   0.,   0.,   0.,   0.,   0.,\n",
       "         0.,   0.,   0.,   0.,   0.,   0.,   0.,  11.,   0.,  11.,   0.,\n",
       "        11.,   0.,  11.,  11.,  11.,  11.,  11.,  11.,  11.,  11.,  11.,\n",
       "        11.,  11.,  11.,  11.,  11.,  11.,  11.,  11.,  11.,  11.,  11.,\n",
       "        11.,  11.,  11.,  11.,  11.,  11.,  11.,  12.,  12.,  11.,  12.,\n",
       "        12.,  12.,  12.,  12.,  12.,  12.,  12.,  12.,  12.,  12.,  12.,\n",
       "        12.,  12.,  12.,  12.,  12.,  12.,  12.,  12.,  12.,  12.,  12.,\n",
       "        12.,  12.,  12.,  12.,  12.,  12.,  12.,  12.,  12.,  12.,  12.,\n",
       "        12.,  12.,  13.,  13.,  13.,  13.,  13.,  13.,  13.,  13.,  13.,\n",
       "        13.,  13.,  13.,  13.,  13.,  13.,  13.,  13.,  13.,  13.,  13.,\n",
       "        13.,  13.,  13.,  13.,  13.,  13.,  13.,  13.,  13.,  13.,  13.,\n",
       "        13.,  13.,  13.,  13.,  13.,  13.,  13.,  13.,  13.,  13.,  13.,\n",
       "        13.,  13.,  13.,  13.,  13.,  13.,  13.,  13.,  13.,  13.,  13.,\n",
       "        13.,  13.,  13.,  13.,  14.,  14.,  14.,  14.,  14.,  14.,  14.,\n",
       "        14.,  14.,  14.,  14.,  14.,  14.,  14.,  14.,  14.,  14.,  14.,\n",
       "        14.,  14.,  14.,  14.,  14.,  14.,  14.,  14.,  14.,  14.,  14.,\n",
       "        14.,  14.,  14.,  14.,  14.,  14.,  14.,  14.,  14.,  14.,  14.,\n",
       "        14.,  14.,  14.,  15.,  15.,  15.,  15.,  15.,  15.,  15.,  15.,\n",
       "        15.,  15.,  15.,  15.,  15.,  15.,  15.,  15.,  15.,  15.,  15.,\n",
       "        15.,  15.,  15.,  15.,  15.,  15.,  15.,  15.,  15.,  15.,  15.,\n",
       "        15.,  15.,  15.,  15.,  15.,  15.,  15.,  15.,  15.,  15.,  15.,\n",
       "        16.,  16.,  16.,  16.,  16.,  15.,  16.,  16.,  16.,  16.,  16.,\n",
       "        16.,  16.,  16.,  16.,  16.,  16.,  16.,  16.,  16.,  16.,  16.,\n",
       "        16.,  16.,  16.,  16.,  16.,  16.,  16.,  16.,  16.,  16.,  16.,\n",
       "        16.,  16.,  16.,  16.,  16.,  16.,  16.,  16.,  16.,  16.,  16.,\n",
       "        16.,  16.,  16.,  17.,  17.,  17.,  17.,  17.,  17.,  17.,  17.,\n",
       "        17.,  17.,  17.,  17.,  17.,  17.,  17.,  17.,  17.,  17.,  17.,\n",
       "        17.,  16.,  17.,  17.,  17.,  17.,  17.,  17.,  17.,  17.,  17.,\n",
       "        17.,  17.,  17.,  17.,  17.,  17.,  17.,  17.,  17.,  17.,  17.,\n",
       "        17.,  17.,  17.,  17.,  17.,  17.,  17.,  17.,  17.,  17.,  17.,\n",
       "        17.,  18.,  18.,  18.,  18.,  18.,  18.,  18.,  18.,  18.,  18.,\n",
       "        18.,  18.,  18.,  18.,  18.,  18.,  18.,  18.,  18.,  18.,  18.,\n",
       "        18.,  18.,  18.,  18.,  18.,  18.,  18.,  18.,  18.,  18.,  18.,\n",
       "        18.,  18.,  18.,  18.,  18.,  18.,  18.,  18.,  18.,  18.,  18.,\n",
       "        18.,  18.,  18.,  18.,  18.,  18.,  18.,  18.,  18.,  18.,  18.,\n",
       "        18.,  18.,  18.,  18.,  18.,  18.,  18.,  18.,  18.,  18.,  18.,\n",
       "        18.,  18.,  18.,  18.,  18.,  18.,  18.,  18.,  18.,  18.,  18.,\n",
       "        18.,  18.,  20.,  20.,  20.,  20.,  20.,  20.,  20.,  20.,  20.,\n",
       "        20.,  20.,  20.,  20.,  20.,  20.,  20.,  20.,  20.,  20.,  20.,\n",
       "        20.,  20.,  20.,  20.,  20.,  20.,  20.,  20.,  20.,  20.,  20.,\n",
       "        20.,  20.,  20.,  20.,  20.,  20.,  20.,  20.,  20.,  20.,  20.,\n",
       "        20.,  20.,  20.,  20.,  20.,  21.,  21.,  21.,  21.,  21.,  21.,\n",
       "        21.,  21.,  21.,  21.,  21.,  21.,  21.,  21.,  21.,  21.,  21.,\n",
       "        21.,  21.,  21.,  21.,  21.,  21.,  21.,  21.,  21.,  21.,  21.,\n",
       "        21.,  21.,  21.,  21.,  21.,  21.,  21.,  21.,  21.,  21.,  21.,\n",
       "        21.,  21.,  21.,  21.,  21.,  21.,  21.,  21.,  21.,  21.,  21.,\n",
       "        21.,  21.,  21.,  21.,  21.,  21.,  21.,  21.,  22.,  22.,  22.,\n",
       "        22.,  22.,  22.,  22.,  22.,  22.,  22.,  22.,  22.,  22.,  22.,\n",
       "        22.,  22.,  22.,  22.,  22.,  22.,  22.,  22.,  22.,  22.,  22.,\n",
       "        22.,  22.,  22.,  22.,  22.,  22.,  22.,  22.,  22.,  22.,  22.,\n",
       "        22.,  22.,  22.,  22.,  22.,  22.,  22.,  22.,  22.,  22.,  22.,\n",
       "        22.])"
      ]
     },
     "execution_count": 12,
     "metadata": {},
     "output_type": "execute_result"
    }
   ],
   "source": [
    "# 保存svc分类器\n",
    "import pickle\n",
    "fp = open('svc.pkl','wb',True)\n",
    "pickle.dump(clf, fp)"
   ]
  },
  {
   "cell_type": "code",
   "execution_count": 30,
   "metadata": {
    "collapsed": true
   },
   "outputs": [],
   "source": [
    "data='[{\"mac\":\"0a:69:6c:76:fc:bb\",\"level\":\"-45\"},{\"mac\":\"06:69:6c:76:fc:ba\",\"level\":\"-47\"},{\"mac\":\"06:69:6c:76:fc:a6\",\"level\":\"-51\"},{\"mac\":\"0a:69:6c:76:fc:a7\",\"level\":\"-58\"},{\"mac\":\"0a:69:6c:77:09:cf\",\"level\":\"-69\"},{\"mac\":\"06:69:6c:77:00:9e\",\"level\":\"-72\"}]'\n",
    "locationClassifier = LocationClassifier(1,wifiInfo)"
   ]
  },
  {
   "cell_type": "code",
   "execution_count": 32,
   "metadata": {},
   "outputs": [
    {
     "data": {
      "text/plain": [
       "array([-45., -47., -51., -58., -69., -72.,   0.,   0.,   0.,   0.,   0.,\n",
       "         0.,   0.,   0.,   0.,   0.,   0.,   0.,   0.,   0.,   0.,   0.,\n",
       "         0.,   0.,   0.,   0.,   0.,   0.,   0.,   0.,   0.,   0.,   0.,\n",
       "         0.,   0.,   0.,   0.,   0.,   0.,   0.,   0.,   0.,   0.,   0.,\n",
       "         0.,   0.,   0.,   0.,   0.,   0.,   0.,   0.,   0.,   0.,   0.,\n",
       "         0.,   0.,   0.,   0.,   0.,   0.,   0.,   0.,   0.,   0.,   0.,\n",
       "         0.,   0.,   0.,   0.,   0.,   0.,   0.,   0.,   0.,   0.,   0.,\n",
       "         0.,   0.,   0.,   0.,   0.])"
      ]
     },
     "execution_count": 32,
     "metadata": {},
     "output_type": "execute_result"
    }
   ],
   "source": [
    "import numpy as np\n",
    "import json\n",
    "\n",
    "locationClassifier.convertWifiVector(data)"
   ]
  },
  {
   "cell_type": "code",
   "execution_count": 31,
   "metadata": {},
   "outputs": [
    {
     "data": {
      "text/plain": [
       "'[{\"mac\":\"0a:69:6c:76:fc:bb\",\"level\":\"-45\"},{\"mac\":\"06:69:6c:76:fc:ba\",\"level\":\"-47\"},{\"mac\":\"06:69:6c:76:fc:a6\",\"level\":\"-51\"},{\"mac\":\"0a:69:6c:76:fc:a7\",\"level\":\"-58\"},{\"mac\":\"0a:69:6c:77:09:cf\",\"level\":\"-69\"},{\"mac\":\"06:69:6c:77:00:9e\",\"level\":\"-72\"}]'"
      ]
     },
     "execution_count": 31,
     "metadata": {},
     "output_type": "execute_result"
    }
   ],
   "source": [
    "data"
   ]
  },
  {
   "cell_type": "code",
   "execution_count": null,
   "metadata": {
    "collapsed": true
   },
   "outputs": [],
   "source": []
  }
 ],
 "metadata": {
  "kernelspec": {
   "display_name": "Python 2",
   "language": "python",
   "name": "python2"
  },
  "language_info": {
   "codemirror_mode": {
    "name": "ipython",
    "version": 2
   },
   "file_extension": ".py",
   "mimetype": "text/x-python",
   "name": "python",
   "nbconvert_exporter": "python",
   "pygments_lexer": "ipython2",
   "version": "2.7.13"
  }
 },
 "nbformat": 4,
 "nbformat_minor": 2
}
