{
 "cells": [
  {
   "cell_type": "code",
   "execution_count": 4,
   "metadata": {
    "collapsed": true
   },
   "outputs": [],
   "source": [
    "import numpy as np\n",
    "import json\n",
    "from sklearn.preprocessing import StandardScaler\n",
    "from sklearn.svm import SVC\n",
    "\n",
    "#定义类\n",
    "class WifiInfo(object):\n",
    "    def __init__(self, X, y, macAddrDict, roomDict):\n",
    "        self.X = X\n",
    "        self.y = y\n",
    "        self.macAddrDict = macAddrDict\n",
    "        self.roomDict = roomDict\n",
    "\n",
    "#定义分类器\n",
    "class LocationClassifier(object):\n",
    "    def __init__(self, classifier, wifiInfo, standardScaler):\n",
    "        self.classifier = classifier\n",
    "        self.wifiInfo = wifiInfo\n",
    "        self.standardScaler = standardScaler\n",
    "    \n",
    "    def convertWifiVector(self, wifiJsonString):\n",
    "        vector = np.zeros(len(self.wifiInfo.macAddrDict))\n",
    "        for mac in json.loads(wifiJsonString):\n",
    "            id = self.wifiInfo.macAddrDict[mac['mac']]\n",
    "            vector[id] = mac['level']\n",
    "        return vector\n",
    "    \n",
    "    def recognize(self,wifiJsonString):\n",
    "        vector = self.convertWifiVector(wifiJsonString)\n",
    "        vector [vector==0] = -100\n",
    "        vector = vector+100\n",
    "        vector = self.standardScaler.transform([vector])\n",
    "\n",
    "        #可能性\n",
    "        prob = self.classifier.predict_proba(vector)\n",
    "        prob_idx = np.argsort(-prob,axis=1)[0]\n",
    "        # 根据可能性排序，然后把这个arg_index套用到clf.classese_,以免出现跳跃式类别。这是范留山隐藏的坑\n",
    "        # 要按大一这样搞，算法这条路基本没希望了\n",
    "        pred_classes = self.classifier.classes_[prob_idx]\n",
    "\n",
    "        return pred_classes[:3], prob[0,prob_idx[:3]]#[0,pred_idx[:3]]  #返回前3个最大可能的类别，以及他们的可能性\n",
    "    \n",
    "    def return_as_json(self, wifiJsonString):\n",
    "        '''直接返回json字串，该怎么输出自己再改@范留山'''\n",
    "        [c,p] = self.recognize(wifiJsonString)\n",
    "        jsonData = []\n",
    "        tmpData = dict()\n",
    "    #     for i in range(len(c)):\n",
    "    #         tmpData['class'] = target_names[c[i]]\n",
    "    #         tmpData['possibility'] = p[i]\n",
    "    #         tmpData['classId'] = c[i]\n",
    "    #         jsonData.append(tmpData)\n",
    "    #         print '类别:',locationClassifier.wifiInfo.roomDict[c[i]],'可信度',p[i]\n",
    "    \n",
    "\n",
    "        print '你妹的，给类别号码得不到房间，我之前要求：  给mac-->得到idx，给类别-->得到房间，你后面的给弄反了，在wifiInfo里面改。'\n",
    "        return jsonData\n",
    "\n"
   ]
  },
  {
   "cell_type": "code",
   "execution_count": 5,
   "metadata": {},
   "outputs": [],
   "source": [
    "import pickle\n",
    "\n",
    "#加载\n",
    "fp = open('locationClassifier.pkl','rb',True)\n",
    "locationClassifier = pickle.load(fp)"
   ]
  },
  {
   "cell_type": "code",
   "execution_count": 6,
   "metadata": {},
   "outputs": [
    {
     "name": "stdout",
     "output_type": "stream",
     "text": [
      "你妹的，给类别号码得不到房间，我之前要求：  给mac-->得到idx，给类别-->得到房间，你后面的给弄反了，在wifiInfo里面改。\n"
     ]
    },
    {
     "data": {
      "text/plain": [
       "(array([ 15.,  16.,  18.]), array([ 0.77055285,  0.07112219,  0.01803663]))"
      ]
     },
     "execution_count": 6,
     "metadata": {},
     "output_type": "execute_result"
    }
   ],
   "source": [
    "wifiJsonString='[{\"mac\":\"0a:69:6c:76:fc:bb\",\"level\":\"-45\"},{\"mac\":\"06:69:6c:76:fc:ba\",\"level\":\"-47\"},{\"mac\":\"06:69:6c:76:fc:a6\",\"level\":\"-51\"},{\"mac\":\"0a:69:6c:76:fc:a7\",\"level\":\"-58\"},{\"mac\":\"0a:69:6c:77:09:cf\",\"level\":\"-69\"},{\"mac\":\"06:69:6c:77:00:9e\",\"level\":\"-72\"}]'\n",
    "\n",
    "locationClassifier.return_as_json(wifiJsonString)\n",
    "locationClassifier.recognize(wifiJsonString)"
   ]
  },
  {
   "cell_type": "code",
   "execution_count": null,
   "metadata": {
    "collapsed": true
   },
   "outputs": [],
   "source": []
  }
 ],
 "metadata": {
  "kernelspec": {
   "display_name": "Python 2",
   "language": "python",
   "name": "python2"
  },
  "language_info": {
   "codemirror_mode": {
    "name": "ipython",
    "version": 2
   },
   "file_extension": ".py",
   "mimetype": "text/x-python",
   "name": "python",
   "nbconvert_exporter": "python",
   "pygments_lexer": "ipython2",
   "version": "2.7.13"
  }
 },
 "nbformat": 4,
 "nbformat_minor": 2
}
